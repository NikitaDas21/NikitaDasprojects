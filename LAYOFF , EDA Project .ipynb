{
 "cells": [
  {
   "cell_type": "code",
   "execution_count": 33,
   "id": "70bd5cda",
   "metadata": {},
   "outputs": [],
   "source": [
    "import pandas as pd\n",
    "import matplotlib.pyplot as plt\n",
    "import seaborn as sns\n",
    "import warnings\n",
    "warnings.filterwarnings('ignore')"
   ]
  },
  {
   "cell_type": "code",
   "execution_count": 34,
   "id": "0295f480",
   "metadata": {},
   "outputs": [
    {
     "data": {
      "text/html": [
       "<div>\n",
       "<style scoped>\n",
       "    .dataframe tbody tr th:only-of-type {\n",
       "        vertical-align: middle;\n",
       "    }\n",
       "\n",
       "    .dataframe tbody tr th {\n",
       "        vertical-align: top;\n",
       "    }\n",
       "\n",
       "    .dataframe thead th {\n",
       "        text-align: right;\n",
       "    }\n",
       "</style>\n",
       "<table border=\"1\" class=\"dataframe\">\n",
       "  <thead>\n",
       "    <tr style=\"text-align: right;\">\n",
       "      <th></th>\n",
       "      <th>company</th>\n",
       "      <th>location</th>\n",
       "      <th>industry</th>\n",
       "      <th>total_laid_off</th>\n",
       "      <th>percentage_laid_off</th>\n",
       "      <th>date</th>\n",
       "      <th>stage</th>\n",
       "      <th>country</th>\n",
       "      <th>funds_raised</th>\n",
       "    </tr>\n",
       "  </thead>\n",
       "  <tbody>\n",
       "    <tr>\n",
       "      <th>0</th>\n",
       "      <td>99</td>\n",
       "      <td>Sao Paulo</td>\n",
       "      <td>Transportation</td>\n",
       "      <td>75.0</td>\n",
       "      <td>0.02</td>\n",
       "      <td>20-09-2022</td>\n",
       "      <td>Acquired</td>\n",
       "      <td>Brazil</td>\n",
       "      <td>244.0</td>\n",
       "    </tr>\n",
       "    <tr>\n",
       "      <th>1</th>\n",
       "      <td>E Inc.</td>\n",
       "      <td>Toronto</td>\n",
       "      <td>Transportation</td>\n",
       "      <td>NaN</td>\n",
       "      <td>NaN</td>\n",
       "      <td>16-12-2022</td>\n",
       "      <td>Post-IPO</td>\n",
       "      <td>Canada</td>\n",
       "      <td>NaN</td>\n",
       "    </tr>\n",
       "    <tr>\n",
       "      <th>2</th>\n",
       "      <td>Included Health</td>\n",
       "      <td>SF Bay Area</td>\n",
       "      <td>Healthcare</td>\n",
       "      <td>NaN</td>\n",
       "      <td>0.06</td>\n",
       "      <td>25-07-2022</td>\n",
       "      <td>Series E</td>\n",
       "      <td>United States</td>\n",
       "      <td>272.0</td>\n",
       "    </tr>\n",
       "    <tr>\n",
       "      <th>3</th>\n",
       "      <td>#Paid</td>\n",
       "      <td>Toronto</td>\n",
       "      <td>Marketing</td>\n",
       "      <td>19.0</td>\n",
       "      <td>0.17</td>\n",
       "      <td>27-01-2023</td>\n",
       "      <td>Series B</td>\n",
       "      <td>Canada</td>\n",
       "      <td>21.0</td>\n",
       "    </tr>\n",
       "    <tr>\n",
       "      <th>4</th>\n",
       "      <td>&amp;Open</td>\n",
       "      <td>Dublin</td>\n",
       "      <td>Marketing</td>\n",
       "      <td>9.0</td>\n",
       "      <td>0.09</td>\n",
       "      <td>17-11-2022</td>\n",
       "      <td>Series A</td>\n",
       "      <td>Ireland</td>\n",
       "      <td>35.0</td>\n",
       "    </tr>\n",
       "    <tr>\n",
       "      <th>...</th>\n",
       "      <td>...</td>\n",
       "      <td>...</td>\n",
       "      <td>...</td>\n",
       "      <td>...</td>\n",
       "      <td>...</td>\n",
       "      <td>...</td>\n",
       "      <td>...</td>\n",
       "      <td>...</td>\n",
       "      <td>...</td>\n",
       "    </tr>\n",
       "    <tr>\n",
       "      <th>3096</th>\n",
       "      <td>Zymergen</td>\n",
       "      <td>SF Bay Area</td>\n",
       "      <td>Other</td>\n",
       "      <td>80.0</td>\n",
       "      <td>NaN</td>\n",
       "      <td>26-08-2022</td>\n",
       "      <td>Acquired</td>\n",
       "      <td>United States</td>\n",
       "      <td>974.0</td>\n",
       "    </tr>\n",
       "    <tr>\n",
       "      <th>3097</th>\n",
       "      <td>Zymergen</td>\n",
       "      <td>SF Bay Area</td>\n",
       "      <td>Other</td>\n",
       "      <td>80.0</td>\n",
       "      <td>NaN</td>\n",
       "      <td>25-07-2022</td>\n",
       "      <td>Acquired</td>\n",
       "      <td>United States</td>\n",
       "      <td>974.0</td>\n",
       "    </tr>\n",
       "    <tr>\n",
       "      <th>3098</th>\n",
       "      <td>Zymergen</td>\n",
       "      <td>SF Bay Area</td>\n",
       "      <td>Other</td>\n",
       "      <td>120.0</td>\n",
       "      <td>NaN</td>\n",
       "      <td>23-09-2021</td>\n",
       "      <td>Post-IPO</td>\n",
       "      <td>United States</td>\n",
       "      <td>974.0</td>\n",
       "    </tr>\n",
       "    <tr>\n",
       "      <th>3099</th>\n",
       "      <td>Zymergen</td>\n",
       "      <td>SF Bay Area</td>\n",
       "      <td>Other</td>\n",
       "      <td>NaN</td>\n",
       "      <td>0.10</td>\n",
       "      <td>13-05-2020</td>\n",
       "      <td>Series C</td>\n",
       "      <td>United States</td>\n",
       "      <td>574.0</td>\n",
       "    </tr>\n",
       "    <tr>\n",
       "      <th>3100</th>\n",
       "      <td>Zywave</td>\n",
       "      <td>Milwaukee</td>\n",
       "      <td>Finance</td>\n",
       "      <td>NaN</td>\n",
       "      <td>NaN</td>\n",
       "      <td>07-12-2022</td>\n",
       "      <td>Acquired</td>\n",
       "      <td>United States</td>\n",
       "      <td>NaN</td>\n",
       "    </tr>\n",
       "  </tbody>\n",
       "</table>\n",
       "<p>3101 rows × 9 columns</p>\n",
       "</div>"
      ],
      "text/plain": [
       "               company     location        industry  total_laid_off  \\\n",
       "0                   99    Sao Paulo  Transportation            75.0   \n",
       "1               E Inc.      Toronto  Transportation             NaN   \n",
       "2      Included Health  SF Bay Area      Healthcare             NaN   \n",
       "3                #Paid      Toronto       Marketing            19.0   \n",
       "4                &Open       Dublin       Marketing             9.0   \n",
       "...                ...          ...             ...             ...   \n",
       "3096          Zymergen  SF Bay Area           Other            80.0   \n",
       "3097          Zymergen  SF Bay Area           Other            80.0   \n",
       "3098          Zymergen  SF Bay Area           Other           120.0   \n",
       "3099         Zymergen   SF Bay Area           Other             NaN   \n",
       "3100            Zywave    Milwaukee         Finance             NaN   \n",
       "\n",
       "      percentage_laid_off        date     stage        country  funds_raised  \n",
       "0                    0.02  20-09-2022  Acquired         Brazil         244.0  \n",
       "1                     NaN  16-12-2022  Post-IPO         Canada           NaN  \n",
       "2                    0.06  25-07-2022  Series E  United States         272.0  \n",
       "3                    0.17  27-01-2023  Series B         Canada          21.0  \n",
       "4                    0.09  17-11-2022  Series A        Ireland          35.0  \n",
       "...                   ...         ...       ...            ...           ...  \n",
       "3096                  NaN  26-08-2022  Acquired  United States         974.0  \n",
       "3097                  NaN  25-07-2022  Acquired  United States         974.0  \n",
       "3098                  NaN  23-09-2021  Post-IPO  United States         974.0  \n",
       "3099                 0.10  13-05-2020  Series C  United States         574.0  \n",
       "3100                  NaN  07-12-2022  Acquired  United States           NaN  \n",
       "\n",
       "[3101 rows x 9 columns]"
      ]
     },
     "execution_count": 34,
     "metadata": {},
     "output_type": "execute_result"
    }
   ],
   "source": [
    "df=pd.read_csv(\"layoff.csv\")\n",
    "df"
   ]
  },
  {
   "cell_type": "code",
   "execution_count": 35,
   "id": "dcecb421",
   "metadata": {},
   "outputs": [
    {
     "data": {
      "text/html": [
       "<div>\n",
       "<style scoped>\n",
       "    .dataframe tbody tr th:only-of-type {\n",
       "        vertical-align: middle;\n",
       "    }\n",
       "\n",
       "    .dataframe tbody tr th {\n",
       "        vertical-align: top;\n",
       "    }\n",
       "\n",
       "    .dataframe thead th {\n",
       "        text-align: right;\n",
       "    }\n",
       "</style>\n",
       "<table border=\"1\" class=\"dataframe\">\n",
       "  <thead>\n",
       "    <tr style=\"text-align: right;\">\n",
       "      <th></th>\n",
       "      <th>company</th>\n",
       "      <th>location</th>\n",
       "      <th>industry</th>\n",
       "      <th>total_laid_off</th>\n",
       "      <th>percentage_laid_off</th>\n",
       "      <th>date</th>\n",
       "      <th>stage</th>\n",
       "      <th>country</th>\n",
       "      <th>funds_raised</th>\n",
       "    </tr>\n",
       "  </thead>\n",
       "  <tbody>\n",
       "    <tr>\n",
       "      <th>0</th>\n",
       "      <td>99</td>\n",
       "      <td>Sao Paulo</td>\n",
       "      <td>Transportation</td>\n",
       "      <td>75.0</td>\n",
       "      <td>0.02</td>\n",
       "      <td>20-09-2022</td>\n",
       "      <td>Acquired</td>\n",
       "      <td>Brazil</td>\n",
       "      <td>244.0</td>\n",
       "    </tr>\n",
       "    <tr>\n",
       "      <th>1</th>\n",
       "      <td>E Inc.</td>\n",
       "      <td>Toronto</td>\n",
       "      <td>Transportation</td>\n",
       "      <td>NaN</td>\n",
       "      <td>NaN</td>\n",
       "      <td>16-12-2022</td>\n",
       "      <td>Post-IPO</td>\n",
       "      <td>Canada</td>\n",
       "      <td>NaN</td>\n",
       "    </tr>\n",
       "    <tr>\n",
       "      <th>2</th>\n",
       "      <td>Included Health</td>\n",
       "      <td>SF Bay Area</td>\n",
       "      <td>Healthcare</td>\n",
       "      <td>NaN</td>\n",
       "      <td>0.06</td>\n",
       "      <td>25-07-2022</td>\n",
       "      <td>Series E</td>\n",
       "      <td>United States</td>\n",
       "      <td>272.0</td>\n",
       "    </tr>\n",
       "    <tr>\n",
       "      <th>3</th>\n",
       "      <td>#Paid</td>\n",
       "      <td>Toronto</td>\n",
       "      <td>Marketing</td>\n",
       "      <td>19.0</td>\n",
       "      <td>0.17</td>\n",
       "      <td>27-01-2023</td>\n",
       "      <td>Series B</td>\n",
       "      <td>Canada</td>\n",
       "      <td>21.0</td>\n",
       "    </tr>\n",
       "    <tr>\n",
       "      <th>4</th>\n",
       "      <td>&amp;Open</td>\n",
       "      <td>Dublin</td>\n",
       "      <td>Marketing</td>\n",
       "      <td>9.0</td>\n",
       "      <td>0.09</td>\n",
       "      <td>17-11-2022</td>\n",
       "      <td>Series A</td>\n",
       "      <td>Ireland</td>\n",
       "      <td>35.0</td>\n",
       "    </tr>\n",
       "  </tbody>\n",
       "</table>\n",
       "</div>"
      ],
      "text/plain": [
       "            company     location        industry  total_laid_off  \\\n",
       "0                99    Sao Paulo  Transportation            75.0   \n",
       "1            E Inc.      Toronto  Transportation             NaN   \n",
       "2   Included Health  SF Bay Area      Healthcare             NaN   \n",
       "3             #Paid      Toronto       Marketing            19.0   \n",
       "4             &Open       Dublin       Marketing             9.0   \n",
       "\n",
       "   percentage_laid_off        date     stage        country  funds_raised  \n",
       "0                 0.02  20-09-2022  Acquired         Brazil         244.0  \n",
       "1                  NaN  16-12-2022  Post-IPO         Canada           NaN  \n",
       "2                 0.06  25-07-2022  Series E  United States         272.0  \n",
       "3                 0.17  27-01-2023  Series B         Canada          21.0  \n",
       "4                 0.09  17-11-2022  Series A        Ireland          35.0  "
      ]
     },
     "execution_count": 35,
     "metadata": {},
     "output_type": "execute_result"
    }
   ],
   "source": [
    "df.head()\n"
   ]
  },
  {
   "cell_type": "code",
   "execution_count": 36,
   "id": "680016bf",
   "metadata": {},
   "outputs": [
    {
     "data": {
      "text/plain": [
       "(3101, 9)"
      ]
     },
     "execution_count": 36,
     "metadata": {},
     "output_type": "execute_result"
    }
   ],
   "source": [
    "df.shape"
   ]
  },
  {
   "cell_type": "code",
   "execution_count": 37,
   "id": "67a1b590",
   "metadata": {},
   "outputs": [
    {
     "data": {
      "text/plain": [
       "company                   0\n",
       "location                  1\n",
       "industry                  1\n",
       "total_laid_off         1030\n",
       "percentage_laid_off    1087\n",
       "date                      0\n",
       "stage                     7\n",
       "country                   0\n",
       "funds_raised            322\n",
       "dtype: int64"
      ]
     },
     "execution_count": 37,
     "metadata": {},
     "output_type": "execute_result"
    }
   ],
   "source": [
    "df.isna().sum()"
   ]
  },
  {
   "cell_type": "code",
   "execution_count": 6,
   "id": "7896e1cf",
   "metadata": {},
   "outputs": [],
   "source": [
    "#Lets fix some issues with the data here\n",
    "#Lets drop some columns and fix some NaN values in dataset\n",
    "\n",
    "df.total_laid_off = df.total_laid_off.fillna(1) # lets assume there must be atleast 1 reported layoff in any company in this dataset\n",
    "df.industry = df.industry.fillna('Unknown')\n",
    "df.total_laid_off = df.total_laid_off.astype(int) # layoffs should be whole numbers not floats"
   ]
  },
  {
   "cell_type": "code",
   "execution_count": 7,
   "id": "8bcef563",
   "metadata": {},
   "outputs": [
    {
     "data": {
      "text/plain": [
       "company                   0\n",
       "location                  1\n",
       "industry                  0\n",
       "total_laid_off            0\n",
       "percentage_laid_off    1087\n",
       "date                      0\n",
       "stage                     7\n",
       "country                   0\n",
       "funds_raised            322\n",
       "dtype: int64"
      ]
     },
     "execution_count": 7,
     "metadata": {},
     "output_type": "execute_result"
    }
   ],
   "source": [
    "df.isna().sum()"
   ]
  },
  {
   "cell_type": "markdown",
   "id": "ede8d737",
   "metadata": {},
   "source": [
    "# Lets analyse data now"
   ]
  },
  {
   "cell_type": "markdown",
   "id": "8808903d",
   "metadata": {},
   "source": [
    "# Top 5 countries affected by layoffs"
   ]
  },
  {
   "cell_type": "code",
   "execution_count": 8,
   "id": "dbebc908",
   "metadata": {},
   "outputs": [
    {
     "data": {
      "text/plain": [
       "<Axes: >"
      ]
     },
     "execution_count": 8,
     "metadata": {},
     "output_type": "execute_result"
    },
    {
     "data": {
      "image/png": "[encoded data removed]",
      "text/plain": [
       "<Figure size 800x800 with 1 Axes>"
      ]
     },
     "metadata": {},
     "output_type": "display_data"
    }
   ],
   "source": [
    "df.groupby('country')['total_laid_off'].sum().sort_values(ascending=False).head().plot(ylabel=\"\", figsize=(8,8), kind='pie', stacked=True, colormap='Accent')"
   ]
  },
  {
   "cell_type": "code",
   "execution_count": 9,
   "id": "7cdd8a19",
   "metadata": {},
   "outputs": [],
   "source": [
    "#This shows that United States is unproportionally affected by layoffs, compared to the rest of the world"
   ]
  },
  {
   "cell_type": "markdown",
   "id": "cb04fe5e",
   "metadata": {},
   "source": [
    "Top 5 industries affected by layoffs world wide¶"
   ]
  },
  {
   "cell_type": "code",
   "execution_count": 10,
   "id": "b39c9779",
   "metadata": {},
   "outputs": [
    {
     "data": {
      "text/plain": [
       "<Axes: >"
      ]
     },
     "execution_count": 10,
     "metadata": {},
     "output_type": "execute_result"
    },
    {
     "data": {
      "image/png": "[encoded data removed]",
      "text/plain": [
       "<Figure size 800x800 with 1 Axes>"
      ]
     },
     "metadata": {},
     "output_type": "display_data"
    }
   ],
   "source": [
    "df.groupby('industry')['total_laid_off'].sum().sort_values(ascending=False).head().plot(ylabel=\"\",figsize=(8,8), kind='pie', stacked=True, colormap='Set3')"
   ]
  },
  {
   "cell_type": "markdown",
   "id": "1fb85d23",
   "metadata": {},
   "source": [
    "Top 5 locations affected by layoffs world wide"
   ]
  },
  {
   "cell_type": "code",
   "execution_count": 11,
   "id": "e53d62e5",
   "metadata": {},
   "outputs": [
    {
     "data": {
      "text/plain": [
       "<Axes: >"
      ]
     },
     "execution_count": 11,
     "metadata": {},
     "output_type": "execute_result"
    },
    {
     "data": {
      "image/png": "[encoded data removed]",
      "text/plain": [
       "<Figure size 800x800 with 1 Axes>"
      ]
     },
     "metadata": {},
     "output_type": "display_data"
    }
   ],
   "source": [
    "df.groupby('location')['total_laid_off'].sum().sort_values(ascending=False).head().plot(ylabel=\"\",figsize=(8,8), kind='pie', stacked=True, colormap='Set2')"
   ]
  },
  {
   "cell_type": "code",
   "execution_count": 12,
   "id": "868a041a",
   "metadata": {},
   "outputs": [],
   "source": [
    "#So \"SF Bay Area\" suffers badly with layoffs."
   ]
  },
  {
   "cell_type": "code",
   "execution_count": 13,
   "id": "d008de64",
   "metadata": {},
   "outputs": [
    {
     "data": {
      "image/png": "[encoded data removed]",
      "text/plain": [
       "<Figure size 1600x800 with 1 Axes>"
      ]
     },
     "metadata": {},
     "output_type": "display_data"
    }
   ],
   "source": [
    "plt.figure(figsize=(10, 6))\n",
    "plt.title(\"Total Layoffs in different industries world wide since 2020\")\n",
    "plt.ylabel(\"Number of layoffs reported\")\n",
    "df_industries = df.groupby('industry').sum()['total_laid_off'].sort_values(ascending=False).plot(figsize=(16,8), kind='bar', stacked=True, colormap='Accent')"
   ]
  },
  {
   "cell_type": "code",
   "execution_count": null,
   "id": "f8d46efa",
   "metadata": {},
   "outputs": [],
   "source": [
    "\n"
   ]
  },
  {
   "cell_type": "code",
   "execution_count": 41,
   "id": "1df459ed",
   "metadata": {},
   "outputs": [],
   "source": [
    "import warnings\n",
    "warnings.filterwarnings('ignore')\n",
    "df_2022 = df.loc[:'2022']\n",
    "\n",
    "#df = df.set_index('date')\n",
    "\n",
    "#df_2021 = df.loc[(df.index > '01-01-2021')&(df.index < '01-01-2022')]\n",
    "#df_2020 = df.loc[(df.index > '01-01-2020')&(df.index < '01-01-2021')]"
   ]
  },
  {
   "cell_type": "markdown",
   "id": "3a995857",
   "metadata": {},
   "source": [
    "# Year 2022 - Top 5 companies that laid off their employees"
   ]
  },
  {
   "cell_type": "code",
   "execution_count": 42,
   "id": "9b9f9a2e",
   "metadata": {},
   "outputs": [
    {
     "data": {
      "text/html": [
       "<div>\n",
       "<style scoped>\n",
       "    .dataframe tbody tr th:only-of-type {\n",
       "        vertical-align: middle;\n",
       "    }\n",
       "\n",
       "    .dataframe tbody tr th {\n",
       "        vertical-align: top;\n",
       "    }\n",
       "\n",
       "    .dataframe thead th {\n",
       "        text-align: right;\n",
       "    }\n",
       "</style>\n",
       "<table border=\"1\" class=\"dataframe\">\n",
       "  <thead>\n",
       "    <tr style=\"text-align: right;\">\n",
       "      <th></th>\n",
       "      <th>company</th>\n",
       "      <th>location</th>\n",
       "      <th>industry</th>\n",
       "      <th>total_laid_off</th>\n",
       "      <th>percentage_laid_off</th>\n",
       "      <th>date</th>\n",
       "      <th>stage</th>\n",
       "      <th>country</th>\n",
       "      <th>funds_raised</th>\n",
       "    </tr>\n",
       "  </thead>\n",
       "  <tbody>\n",
       "    <tr>\n",
       "      <th>1139</th>\n",
       "      <td>Google</td>\n",
       "      <td>SF Bay Area</td>\n",
       "      <td>Consumer</td>\n",
       "      <td>12000.0</td>\n",
       "      <td>0.06</td>\n",
       "      <td>20-01-2023</td>\n",
       "      <td>Post-IPO</td>\n",
       "      <td>United States</td>\n",
       "      <td>26.0</td>\n",
       "    </tr>\n",
       "    <tr>\n",
       "      <th>1690</th>\n",
       "      <td>Meta</td>\n",
       "      <td>SF Bay Area</td>\n",
       "      <td>Consumer</td>\n",
       "      <td>11000.0</td>\n",
       "      <td>0.13</td>\n",
       "      <td>09-11-2022</td>\n",
       "      <td>Post-IPO</td>\n",
       "      <td>United States</td>\n",
       "      <td>26000.0</td>\n",
       "    </tr>\n",
       "    <tr>\n",
       "      <th>101</th>\n",
       "      <td>Amazon</td>\n",
       "      <td>Seattle</td>\n",
       "      <td>Retail</td>\n",
       "      <td>10000.0</td>\n",
       "      <td>0.03</td>\n",
       "      <td>16-11-2022</td>\n",
       "      <td>Post-IPO</td>\n",
       "      <td>United States</td>\n",
       "      <td>108.0</td>\n",
       "    </tr>\n",
       "    <tr>\n",
       "      <th>1689</th>\n",
       "      <td>Meta</td>\n",
       "      <td>SF Bay Area</td>\n",
       "      <td>Consumer</td>\n",
       "      <td>10000.0</td>\n",
       "      <td>NaN</td>\n",
       "      <td>14-03-2023</td>\n",
       "      <td>Post-IPO</td>\n",
       "      <td>United States</td>\n",
       "      <td>26000.0</td>\n",
       "    </tr>\n",
       "    <tr>\n",
       "      <th>1701</th>\n",
       "      <td>Microsoft</td>\n",
       "      <td>Seattle</td>\n",
       "      <td>Other</td>\n",
       "      <td>10000.0</td>\n",
       "      <td>0.05</td>\n",
       "      <td>18-01-2023</td>\n",
       "      <td>Post-IPO</td>\n",
       "      <td>United States</td>\n",
       "      <td>1.0</td>\n",
       "    </tr>\n",
       "  </tbody>\n",
       "</table>\n",
       "</div>"
      ],
      "text/plain": [
       "        company     location  industry  total_laid_off  percentage_laid_off  \\\n",
       "1139     Google  SF Bay Area  Consumer         12000.0                 0.06   \n",
       "1690       Meta  SF Bay Area  Consumer         11000.0                 0.13   \n",
       "101      Amazon      Seattle    Retail         10000.0                 0.03   \n",
       "1689       Meta  SF Bay Area  Consumer         10000.0                  NaN   \n",
       "1701  Microsoft      Seattle     Other         10000.0                 0.05   \n",
       "\n",
       "            date     stage        country  funds_raised  \n",
       "1139  20-01-2023  Post-IPO  United States          26.0  \n",
       "1690  09-11-2022  Post-IPO  United States       26000.0  \n",
       "101   16-11-2022  Post-IPO  United States         108.0  \n",
       "1689  14-03-2023  Post-IPO  United States       26000.0  \n",
       "1701  18-01-2023  Post-IPO  United States           1.0  "
      ]
     },
     "execution_count": 42,
     "metadata": {},
     "output_type": "execute_result"
    }
   ],
   "source": [
    "df_2022_most_layoffs = df_2022.sort_values(by='total_laid_off', ascending=False)\n",
    "df_2022_most_layoffs.head()"
   ]
  },
  {
   "cell_type": "markdown",
   "id": "b2c65760",
   "metadata": {},
   "source": [
    "# Year 2021 - Top 5 companies that laid off their employees"
   ]
  },
  {
   "cell_type": "code",
   "execution_count": 45,
   "id": "b09e095c",
   "metadata": {},
   "outputs": [],
   "source": [
    "df_2021 = df.loc[:'2021']"
   ]
  },
  {
   "cell_type": "code",
   "execution_count": 46,
   "id": "e805e4c1",
   "metadata": {},
   "outputs": [
    {
     "data": {
      "text/html": [
       "<div>\n",
       "<style scoped>\n",
       "    .dataframe tbody tr th:only-of-type {\n",
       "        vertical-align: middle;\n",
       "    }\n",
       "\n",
       "    .dataframe tbody tr th {\n",
       "        vertical-align: top;\n",
       "    }\n",
       "\n",
       "    .dataframe thead th {\n",
       "        text-align: right;\n",
       "    }\n",
       "</style>\n",
       "<table border=\"1\" class=\"dataframe\">\n",
       "  <thead>\n",
       "    <tr style=\"text-align: right;\">\n",
       "      <th></th>\n",
       "      <th>company</th>\n",
       "      <th>location</th>\n",
       "      <th>industry</th>\n",
       "      <th>total_laid_off</th>\n",
       "      <th>percentage_laid_off</th>\n",
       "      <th>date</th>\n",
       "      <th>stage</th>\n",
       "      <th>country</th>\n",
       "      <th>funds_raised</th>\n",
       "    </tr>\n",
       "  </thead>\n",
       "  <tbody>\n",
       "    <tr>\n",
       "      <th>1139</th>\n",
       "      <td>Google</td>\n",
       "      <td>SF Bay Area</td>\n",
       "      <td>Consumer</td>\n",
       "      <td>12000.0</td>\n",
       "      <td>0.06</td>\n",
       "      <td>20-01-2023</td>\n",
       "      <td>Post-IPO</td>\n",
       "      <td>United States</td>\n",
       "      <td>26.0</td>\n",
       "    </tr>\n",
       "    <tr>\n",
       "      <th>1690</th>\n",
       "      <td>Meta</td>\n",
       "      <td>SF Bay Area</td>\n",
       "      <td>Consumer</td>\n",
       "      <td>11000.0</td>\n",
       "      <td>0.13</td>\n",
       "      <td>09-11-2022</td>\n",
       "      <td>Post-IPO</td>\n",
       "      <td>United States</td>\n",
       "      <td>26000.0</td>\n",
       "    </tr>\n",
       "    <tr>\n",
       "      <th>101</th>\n",
       "      <td>Amazon</td>\n",
       "      <td>Seattle</td>\n",
       "      <td>Retail</td>\n",
       "      <td>10000.0</td>\n",
       "      <td>0.03</td>\n",
       "      <td>16-11-2022</td>\n",
       "      <td>Post-IPO</td>\n",
       "      <td>United States</td>\n",
       "      <td>108.0</td>\n",
       "    </tr>\n",
       "    <tr>\n",
       "      <th>1689</th>\n",
       "      <td>Meta</td>\n",
       "      <td>SF Bay Area</td>\n",
       "      <td>Consumer</td>\n",
       "      <td>10000.0</td>\n",
       "      <td>NaN</td>\n",
       "      <td>14-03-2023</td>\n",
       "      <td>Post-IPO</td>\n",
       "      <td>United States</td>\n",
       "      <td>26000.0</td>\n",
       "    </tr>\n",
       "    <tr>\n",
       "      <th>1701</th>\n",
       "      <td>Microsoft</td>\n",
       "      <td>Seattle</td>\n",
       "      <td>Other</td>\n",
       "      <td>10000.0</td>\n",
       "      <td>0.05</td>\n",
       "      <td>18-01-2023</td>\n",
       "      <td>Post-IPO</td>\n",
       "      <td>United States</td>\n",
       "      <td>1.0</td>\n",
       "    </tr>\n",
       "  </tbody>\n",
       "</table>\n",
       "</div>"
      ],
      "text/plain": [
       "        company     location  industry  total_laid_off  percentage_laid_off  \\\n",
       "1139     Google  SF Bay Area  Consumer         12000.0                 0.06   \n",
       "1690       Meta  SF Bay Area  Consumer         11000.0                 0.13   \n",
       "101      Amazon      Seattle    Retail         10000.0                 0.03   \n",
       "1689       Meta  SF Bay Area  Consumer         10000.0                  NaN   \n",
       "1701  Microsoft      Seattle     Other         10000.0                 0.05   \n",
       "\n",
       "            date     stage        country  funds_raised  \n",
       "1139  20-01-2023  Post-IPO  United States          26.0  \n",
       "1690  09-11-2022  Post-IPO  United States       26000.0  \n",
       "101   16-11-2022  Post-IPO  United States         108.0  \n",
       "1689  14-03-2023  Post-IPO  United States       26000.0  \n",
       "1701  18-01-2023  Post-IPO  United States           1.0  "
      ]
     },
     "execution_count": 46,
     "metadata": {},
     "output_type": "execute_result"
    }
   ],
   "source": [
    "df_2021_most_layoffs = df_2021.sort_values(by='total_laid_off', ascending=False\n",
    "                                          )\n",
    "df_2021_most_layoffs.head(5)"
   ]
  },
  {
   "cell_type": "markdown",
   "id": "52448ea8",
   "metadata": {},
   "source": [
    "# Year 2020 - Top 5 companies that laid off their employees"
   ]
  },
  {
   "cell_type": "code",
   "execution_count": 47,
   "id": "2d9d6020",
   "metadata": {},
   "outputs": [],
   "source": [
    "df_2020 = df.loc[:'2020']"
   ]
  },
  {
   "cell_type": "code",
   "execution_count": 48,
   "id": "f489c749",
   "metadata": {},
   "outputs": [
    {
     "data": {
      "text/html": [
       "<div>\n",
       "<style scoped>\n",
       "    .dataframe tbody tr th:only-of-type {\n",
       "        vertical-align: middle;\n",
       "    }\n",
       "\n",
       "    .dataframe tbody tr th {\n",
       "        vertical-align: top;\n",
       "    }\n",
       "\n",
       "    .dataframe thead th {\n",
       "        text-align: right;\n",
       "    }\n",
       "</style>\n",
       "<table border=\"1\" class=\"dataframe\">\n",
       "  <thead>\n",
       "    <tr style=\"text-align: right;\">\n",
       "      <th></th>\n",
       "      <th>company</th>\n",
       "      <th>location</th>\n",
       "      <th>industry</th>\n",
       "      <th>total_laid_off</th>\n",
       "      <th>percentage_laid_off</th>\n",
       "      <th>date</th>\n",
       "      <th>stage</th>\n",
       "      <th>country</th>\n",
       "      <th>funds_raised</th>\n",
       "    </tr>\n",
       "  </thead>\n",
       "  <tbody>\n",
       "    <tr>\n",
       "      <th>1139</th>\n",
       "      <td>Google</td>\n",
       "      <td>SF Bay Area</td>\n",
       "      <td>Consumer</td>\n",
       "      <td>12000.0</td>\n",
       "      <td>0.06</td>\n",
       "      <td>20-01-2023</td>\n",
       "      <td>Post-IPO</td>\n",
       "      <td>United States</td>\n",
       "      <td>26.0</td>\n",
       "    </tr>\n",
       "    <tr>\n",
       "      <th>1690</th>\n",
       "      <td>Meta</td>\n",
       "      <td>SF Bay Area</td>\n",
       "      <td>Consumer</td>\n",
       "      <td>11000.0</td>\n",
       "      <td>0.13</td>\n",
       "      <td>09-11-2022</td>\n",
       "      <td>Post-IPO</td>\n",
       "      <td>United States</td>\n",
       "      <td>26000.0</td>\n",
       "    </tr>\n",
       "    <tr>\n",
       "      <th>101</th>\n",
       "      <td>Amazon</td>\n",
       "      <td>Seattle</td>\n",
       "      <td>Retail</td>\n",
       "      <td>10000.0</td>\n",
       "      <td>0.03</td>\n",
       "      <td>16-11-2022</td>\n",
       "      <td>Post-IPO</td>\n",
       "      <td>United States</td>\n",
       "      <td>108.0</td>\n",
       "    </tr>\n",
       "    <tr>\n",
       "      <th>1689</th>\n",
       "      <td>Meta</td>\n",
       "      <td>SF Bay Area</td>\n",
       "      <td>Consumer</td>\n",
       "      <td>10000.0</td>\n",
       "      <td>NaN</td>\n",
       "      <td>14-03-2023</td>\n",
       "      <td>Post-IPO</td>\n",
       "      <td>United States</td>\n",
       "      <td>26000.0</td>\n",
       "    </tr>\n",
       "    <tr>\n",
       "      <th>1701</th>\n",
       "      <td>Microsoft</td>\n",
       "      <td>Seattle</td>\n",
       "      <td>Other</td>\n",
       "      <td>10000.0</td>\n",
       "      <td>0.05</td>\n",
       "      <td>18-01-2023</td>\n",
       "      <td>Post-IPO</td>\n",
       "      <td>United States</td>\n",
       "      <td>1.0</td>\n",
       "    </tr>\n",
       "  </tbody>\n",
       "</table>\n",
       "</div>"
      ],
      "text/plain": [
       "        company     location  industry  total_laid_off  percentage_laid_off  \\\n",
       "1139     Google  SF Bay Area  Consumer         12000.0                 0.06   \n",
       "1690       Meta  SF Bay Area  Consumer         11000.0                 0.13   \n",
       "101      Amazon      Seattle    Retail         10000.0                 0.03   \n",
       "1689       Meta  SF Bay Area  Consumer         10000.0                  NaN   \n",
       "1701  Microsoft      Seattle     Other         10000.0                 0.05   \n",
       "\n",
       "            date     stage        country  funds_raised  \n",
       "1139  20-01-2023  Post-IPO  United States          26.0  \n",
       "1690  09-11-2022  Post-IPO  United States       26000.0  \n",
       "101   16-11-2022  Post-IPO  United States         108.0  \n",
       "1689  14-03-2023  Post-IPO  United States       26000.0  \n",
       "1701  18-01-2023  Post-IPO  United States           1.0  "
      ]
     },
     "execution_count": 48,
     "metadata": {},
     "output_type": "execute_result"
    }
   ],
   "source": [
    "df_2020_most_layoffs = df_2020.sort_values(by='total_laid_off', ascending=False)\n",
    "df_2020_most_layoffs.head()\n"
   ]
  },
  {
   "cell_type": "code",
   "execution_count": null,
   "id": "3b3f1ed0",
   "metadata": {},
   "outputs": [],
   "source": [
    "df_2022.groupby('industry')['total_laid_off'].sum().sort_values(ascending=False).head().plot(title =\"2022 layoffs by industry world wide\" ,ylabel=\"No of layoffs\", figsize=(12,6), kind='bar', stacked=True, colormap='Set2')"
   ]
  },
  {
   "cell_type": "code",
   "execution_count": null,
   "id": "95ff79d0",
   "metadata": {},
   "outputs": [],
   "source": [
    "df_2021.groupby('industry')['total_laid_off'].sum().sort_values(ascending=False).head().plot(title =\"2021 layoffs by industry world wide\" ,ylabel=\"No of layoffs\", figsize=(12,6), kind='bar', stacked=True, colormap='Pastel1')"
   ]
  },
  {
   "cell_type": "code",
   "execution_count": null,
   "id": "6795d5f5",
   "metadata": {},
   "outputs": [],
   "source": [
    "df_2020.groupby('industry')['total_laid_off'].sum().sort_values(ascending=False).head().plot(title =\"2020 layoffs by industry world wide\" ,ylabel=\"No of layoffs\", figsize=(12,6), kind='bar', stacked=True, colormap='Paired')"
   ]
  },
  {
   "cell_type": "code",
   "execution_count": null,
   "id": "64be23d3",
   "metadata": {},
   "outputs": [],
   "source": [
    "df = df.reset_index()\n",
    "df['date'] = pd.to_datetime(df['date'])\n",
    "df_industry = df.groupby([ df.industry, df.date.dt.year]).sum()\n",
    "# df_industry.sort_values(by=['total_laid_off','date'], ascending=False)"
   ]
  },
  {
   "cell_type": "code",
   "execution_count": null,
   "id": "8a8e35d1",
   "metadata": {},
   "outputs": [],
   "source": [
    "df_industry = df_industry.reset_index()"
   ]
  },
  {
   "cell_type": "code",
   "execution_count": null,
   "id": "bde9f91b",
   "metadata": {},
   "outputs": [],
   "source": [
    "plt.figure(figsize=(14, 10))\n",
    "plt.xticks(rotation=90)\n",
    "plt.title(\"Yearly layoffs in various industries world wide\")\n",
    "sns.set(style=\"white\", palette=\"Accent\", color_codes=True)\n",
    "\n",
    "sns.barplot(data=df_industry.sort_values(by=['total_laid_off','date'], ascending=False), x=\"industry\", y=\"total_laid_off\", hue=\"date\")"
   ]
  },
  {
   "cell_type": "markdown",
   "id": "f17a8cf0",
   "metadata": {},
   "source": [
    "# Yearly layoff trend for the whole world shows that\n",
    "Layoffs were generally higher in 2020, then they dropped in 2021 and skyrocketed in 2022\n",
    "Initially Transportation and Travel industries got affected more as shown by the layoffs in 2020 but they somewhat recovered later\n",
    "Retail, Consumer and Food industries face sharp increase in layoffs"
   ]
  },
  {
   "cell_type": "code",
   "execution_count": null,
   "id": "56e0efe4",
   "metadata": {},
   "outputs": [],
   "source": [
    "df_usa = df[df['country']==\"United States\"]\n",
    "df_minus_usa = df[df['country']!=\"United States\"]"
   ]
  },
  {
   "cell_type": "code",
   "execution_count": null,
   "id": "5204a1dc",
   "metadata": {},
   "outputs": [],
   "source": [
    "# isolate data to be plotted\n",
    "d1 = df_usa.groupby(\"industry\")['total_laid_off'].sum().sort_values(ascending=False).head()\n",
    "d2 = df_minus_usa.groupby(\"industry\")['total_laid_off'].sum().sort_values(ascending=False).head()\n",
    "\n",
    "# create subplots\n",
    "fig, (ax1, ax2) = plt.subplots(1, 2)\n",
    "# fig.tight_layout(rect=(0,0,1.3,1.2))\n",
    "fig.tight_layout(rect=(0,0,1.7,0.9))\n",
    "\n",
    "# set titles for each subplot\n",
    "ax1.set_title(\"USA - Layoffs by industry\", fontweight='bold')\n",
    "ax2.set_title(\"Outside USA - Layoffs by industry\", fontweight='bold')\n",
    "\n",
    "# plot a pie chart for each data series\n",
    "ax1.pie(x=d1,labels=d1.index, autopct=lambda x: '{:.0f}'.format(x*d1.values.sum()/100))\n",
    "ax2.pie(x=d2,labels=d2.index, autopct=lambda x: '{:.0f}'.format(x*d2.values.sum()/100))\n",
    "# insert line between subplots\n",
    "ax1.plot([1.3, 1.3], [0, 1], color='black', lw=2, transform=ax1.transAxes, clip_on=False)"
   ]
  },
  {
   "cell_type": "code",
   "execution_count": null,
   "id": "e0fd0991",
   "metadata": {},
   "outputs": [],
   "source": [
    "df_usa_industry_yearly = df_usa.groupby([ df_usa.industry, df_usa.date.dt.year]).sum()"
   ]
  },
  {
   "cell_type": "code",
   "execution_count": null,
   "id": "ac910ebf",
   "metadata": {},
   "outputs": [],
   "source": [
    "df_usa_industry_yearly = df_usa_industry_yearly.reset_index()"
   ]
  },
  {
   "cell_type": "code",
   "execution_count": null,
   "id": "1a7ad9b8",
   "metadata": {},
   "outputs": [],
   "source": [
    "plt.figure(figsize=(16, 9))\n",
    "plt.xticks(rotation=90)\n",
    "plt.title(\"USA - Yearly layoffs in various industries\")\n",
    "sns.set(style=\"white\", palette=\"Accent\", color_codes=True)\n",
    "\n",
    "sns.barplot(data=df_usa_industry_yearly.sort_values(by=['total_laid_off','date'], ascending=False), x=\"industry\", y=\"total_laid_off\", hue=\"date\")"
   ]
  },
  {
   "cell_type": "markdown",
   "id": "e5f91183",
   "metadata": {},
   "source": [
    "# Yearly layoff trend for United States shows that\n",
    "1. Layoffs were generally higher in 2020, then they dropped in 2021 and skyrocketed in 2022\n",
    "\n",
    "2. Initially Transportation and Travel industries got affected more as shown by the layoffs in 2020 but they somewhat recovered later\n",
    "\n",
    "3. Consumer, Retail, Real Estate, Healthcare, Food and Fitness industries face sharp increase in layoffs in 2022 compared to 2020\n",
    "\n",
    "4. Yearly layoff trend for the whole world matches with that of yearly trend in USA in the sense that layoffs were higher in 2020, then they dropped in 2021 and skyrocketed in 2022. This may be because majority of data in the dataset is about USA"
   ]
  },
  {
   "cell_type": "markdown",
   "id": "69a1ac56",
   "metadata": {},
   "source": [
    "# Lets exclude USA from this graph and see the results"
   ]
  },
  {
   "cell_type": "code",
   "execution_count": null,
   "id": "33b7f02a",
   "metadata": {},
   "outputs": [],
   "source": [
    "df_minus_usa_industry_yearly = df_minus_usa.groupby([ df_minus_usa.industry, df_minus_usa.date.dt.year]).sum()"
   ]
  },
  {
   "cell_type": "code",
   "execution_count": null,
   "id": "51ad2af8",
   "metadata": {},
   "outputs": [],
   "source": [
    "df_minus_usa_industry_yearly = df_minus_usa_industry_yearly.reset_index()"
   ]
  },
  {
   "cell_type": "code",
   "execution_count": null,
   "id": "d44af822",
   "metadata": {},
   "outputs": [],
   "source": [
    "plt.figure(figsize=(12, 9))\n",
    "plt.xticks(rotation=90)\n",
    "plt.title(\"Outside USA - Yearly layoffs in various industries\")\n",
    "sns.set(style=\"white\", palette=\"Accent\", color_codes=True)\n",
    "\n",
    "sns.barplot(data=df_minus_usa_industry_yearly.sort_values(by=['total_laid_off','date'], ascending=False), x=\"industry\", y=\"total_laid_off\", hue=\"date\")"
   ]
  },
  {
   "cell_type": "markdown",
   "id": "a83f3fa2",
   "metadata": {},
   "source": [
    "# Yearly layoff trends excluding United States data shows that\n",
    "1. Layoffs were generally higher in 2020, then they dropped in 2021 and greatly increased in 2022\n",
    "2. Initially Travel industry got affected more as shown by the layoffs in 2020 but they recovered very well since then\n",
    "3. Surprisingly Education and Retail industries faced sharp increase in layoffs in 2022 compared to 2020\n",
    "4. Travel and Finance industries performed well in 2022 compared to 2020\n",
    "5. Yearly layoff trend for the whole world (minus USA data) matches somewhat with that of yearly trend in USA in the sense that layoffs were higher in 2020, then they dropped in 2021 and are generally higher in 2022."
   ]
  },
  {
   "cell_type": "markdown",
   "id": "8f1c173f",
   "metadata": {},
   "source": [
    "# Why so bad situation in Education and Retail industries outside USA?¶"
   ]
  },
  {
   "cell_type": "code",
   "execution_count": null,
   "id": "006f12a6",
   "metadata": {},
   "outputs": [],
   "source": [
    "df_minus_usa[df_minus_usa['industry']=='Education'].groupby('country').sum()['total_laid_off'].sort_values(ascending=False).head()"
   ]
  },
  {
   "cell_type": "code",
   "execution_count": null,
   "id": "bfb1d259",
   "metadata": {},
   "outputs": [],
   "source": [
    "perc = int(100*(df_minus_usa[(df_minus_usa['industry']=='Education') & (df_minus_usa['country']=='India')].sum()['total_laid_off'])/(df_minus_usa[(df_minus_usa['industry']=='Education')].sum()['total_laid_off']))\n",
    "\n",
    "print(\"Percent of layoffs by India in Education Industry = \", perc, \"%\")"
   ]
  },
  {
   "cell_type": "code",
   "execution_count": null,
   "id": "ff908ef8",
   "metadata": {},
   "outputs": [],
   "source": [
    "##So in Education Industry, India stands out clearly with 87% of the layoffs reported in this industry"
   ]
  },
  {
   "cell_type": "markdown",
   "id": "a26fd899",
   "metadata": {},
   "source": [
    "# Lest see how various industies performed yearly in India"
   ]
  },
  {
   "cell_type": "code",
   "execution_count": null,
   "id": "3ec0e4f4",
   "metadata": {},
   "outputs": [],
   "source": [
    "df_india = df[df['country']=='India']\n",
    "df_india_industry_yearly = df_india.groupby([ df_india.industry, df_india.date.dt.year]).sum()\n",
    "df_india_industry_yearly = df_india_industry_yearly.reset_index()"
   ]
  },
  {
   "cell_type": "code",
   "execution_count": null,
   "id": "dcedd195",
   "metadata": {},
   "outputs": [],
   "source": [
    "plt.figure(figsize=(12, 9))\n",
    "plt.xticks(rotation=90)\n",
    "plt.title(\"India - Yearly layoffs in various industries\")\n",
    "sns.set(style=\"white\", palette=\"Accent\", color_codes=True)\n",
    "sns.barplot(data=df_india_industry_yearly.sort_values(by=['total_laid_off','date'], ascending=False), x=\"industry\", y=\"total_laid_off\", hue=\"date\")"
   ]
  },
  {
   "cell_type": "markdown",
   "id": "8ff86708",
   "metadata": {},
   "source": [
    "This shows\n",
    "\n",
    "India suffered most layoffs in Education and Retail Industries\n",
    "India performed well in most industries in 2022 compared to 2021"
   ]
  },
  {
   "cell_type": "markdown",
   "id": "a673aa27",
   "metadata": {},
   "source": [
    "# Lets remove data about India from the rest of the world and examine the results again"
   ]
  },
  {
   "cell_type": "code",
   "execution_count": null,
   "id": "c558c4ce",
   "metadata": {},
   "outputs": [],
   "source": [
    "df_minus_usa_india = df_minus_usa[df_minus_usa['country']!='India']\n",
    "df_minus_usa_india_industry_yearly = df_minus_usa_india.groupby([ df_minus_usa_india.industry, df_minus_usa_india.date.dt.year]).sum()\n",
    "df_minus_usa_india_industry_yearly = df_minus_usa_india_industry_yearly.reset_index()"
   ]
  },
  {
   "cell_type": "code",
   "execution_count": null,
   "id": "b323e063",
   "metadata": {},
   "outputs": [],
   "source": [
    "plt.figure(figsize=(12, 9))\n",
    "plt.xticks(rotation=90)\n",
    "plt.title(\"World excluding USA & India - Yearly layoffs in various industries\")\n",
    "sns.set(style=\"white\", palette=\"Accent\", color_codes=True)\n",
    "\n",
    "sns.barplot(data=df_minus_usa_india_industry_yearly.sort_values(by=['total_laid_off','date'], ascending=False), x=\"industry\", y=\"total_laid_off\", hue=\"date\")"
   ]
  },
  {
   "cell_type": "markdown",
   "id": "0ab16403",
   "metadata": {},
   "source": [
    "# Yearly layoff trends excluding United States and India data shows that\n",
    "Travel industry was badly affected by layoffs in 2020 but it improved greatly in 2022\n",
    "Food, Crypto and Retail industries are badly affected by layoffs in 2022 compared to previous years\n",
    "Surprisingly consumer industry performed well in 2022 compared to 2021"
   ]
  },
  {
   "cell_type": "markdown",
   "id": "1ff7a405",
   "metadata": {},
   "source": [
    "# Final Analysis\n",
    "United States suffered most layoffs followed by India, compared to the rest of the world. More than 75% of the employees laid off since 2020 belong to USA\n",
    "Consumer industry in USA is hit hardest with layoffs in 2022 while Food industry is affected most outside USA in 2022\n",
    "Transportation and Food industries are affected by layoffs globally\n",
    "Travel industry faced considerably less layoffs globally in 2022 compared to 2022"
   ]
  },
  {
   "cell_type": "code",
   "execution_count": null,
   "id": "ba016ecc",
   "metadata": {},
   "outputs": [],
   "source": []
  }
 ],
 "metadata": {
  "kernelspec": {
   "display_name": "Python 3 (ipykernel)",
   "language": "python",
   "name": "python3"
  },
  "language_info": {
   "codemirror_mode": {
    "name": "ipython",
    "version": 3
   },
   "file_extension": ".py",
   "mimetype": "text/x-python",
   "name": "python",
   "nbconvert_exporter": "python",
   "pygments_lexer": "ipython3",
   "version": "3.11.4"
  }
 },
 "nbformat": 4,
 "nbformat_minor": 5
}
